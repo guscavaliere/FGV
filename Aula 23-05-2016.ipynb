{
 "cells": [
  {
   "cell_type": "markdown",
   "metadata": {},
   "source": [
    "                                      Continuação de classes"
   ]
  },
  {
   "cell_type": "code",
   "execution_count": 2,
   "metadata": {
    "collapsed": true
   },
   "outputs": [],
   "source": [
    "class Minha_classe:\n",
    "    propriedade=\"Azul\"\n",
    "    outra_propriedade=\"Verde\"\n",
    "    \n",
    "    def um_metodo():\n",
    "        pass"
   ]
  },
  {
   "cell_type": "code",
   "execution_count": 3,
   "metadata": {
    "collapsed": false
   },
   "outputs": [],
   "source": [
    "class Minha_classe_bombada(Minha_classe):\n",
    "    def __init__(self):\n",
    "        print('Você criou uma classe')"
   ]
  },
  {
   "cell_type": "code",
   "execution_count": 4,
   "metadata": {
    "collapsed": false
   },
   "outputs": [
    {
     "name": "stdout",
     "output_type": "stream",
     "text": [
      "Você criou uma classe\n"
     ]
    }
   ],
   "source": [
    "jiu_jitsu=Minha_classe_bombada()"
   ]
  },
  {
   "cell_type": "code",
   "execution_count": 7,
   "metadata": {
    "collapsed": false
   },
   "outputs": [],
   "source": [
    "class Humano:\n",
    "    def __init__(self,data_nascimento,tipo_sanguineo):\n",
    "        self.data_nascimento=data_nascimento\n",
    "        self.tipo_sanguineo=tipo_sanguineo\n",
    "    def mostra_tipo(self):\n",
    "        print (self.tipo_sanguineo)\n",
    "    def mostra_idade(self):\n",
    "        print(self.data_nascimento)\n",
    "        \n",
    "        "
   ]
  },
  {
   "cell_type": "code",
   "execution_count": 9,
   "metadata": {
    "collapsed": false
   },
   "outputs": [],
   "source": [
    "class Aluno(Humano):\n",
    "    def __init__(self,data_nascimento,tipo_sanguineo,nome):\n",
    "        Humano.__init__(self,data_nascimento,tipo_sanguineo)\n",
    "        self.nome=nome\n",
    "        "
   ]
  },
  {
   "cell_type": "code",
   "execution_count": 10,
   "metadata": {
    "collapsed": true
   },
   "outputs": [],
   "source": [
    "Bia=Aluno(\"18-04-1998\",'O+',\"Beatriz Coimbra\")"
   ]
  },
  {
   "cell_type": "code",
   "execution_count": 12,
   "metadata": {
    "collapsed": false
   },
   "outputs": [
    {
     "data": {
      "text/plain": [
       "'18-04-1998'"
      ]
     },
     "execution_count": 12,
     "metadata": {},
     "output_type": "execute_result"
    }
   ],
   "source": [
    "Bia.data_nascimento"
   ]
  },
  {
   "cell_type": "code",
   "execution_count": 13,
   "metadata": {
    "collapsed": true
   },
   "outputs": [],
   "source": [
    "class Mulher:\n",
    "    def __init__(self,e_mae):\n",
    "        self.e_mae =e_mae"
   ]
  },
  {
   "cell_type": "code",
   "execution_count": 14,
   "metadata": {
    "collapsed": true
   },
   "outputs": [],
   "source": [
    "class Aluno_mulher(Aluno,Mulher):\n",
    "    def __init__(self,data_nascimento,tipo_sanguineo,nome,e_mae):\n",
    "        Aluno.__init__(self,data_nascimento,tipo_sanguineo,nome)\n",
    "        Mulher.__init__(self,e_mae)"
   ]
  },
  {
   "cell_type": "code",
   "execution_count": 15,
   "metadata": {
    "collapsed": true
   },
   "outputs": [],
   "source": [
    "Bia=Aluno_mulher(\"18-04-1998\",'O+',\"Beatriz Coimbra\",False)"
   ]
  },
  {
   "cell_type": "code",
   "execution_count": 16,
   "metadata": {
    "collapsed": false
   },
   "outputs": [
    {
     "data": {
      "text/plain": [
       "False"
      ]
     },
     "execution_count": 16,
     "metadata": {},
     "output_type": "execute_result"
    }
   ],
   "source": [
    "Bia.e_mae"
   ]
  },
  {
   "cell_type": "code",
   "execution_count": 18,
   "metadata": {
    "collapsed": false
   },
   "outputs": [
    {
     "name": "stdout",
     "output_type": "stream",
     "text": [
      "O+\n"
     ]
    }
   ],
   "source": [
    "Bia.mostra_tipo()\n"
   ]
  },
  {
   "cell_type": "markdown",
   "metadata": {},
   "source": [
    "<h4>Criar uma classe automóvel, com as características:</h4>\n",
    "\n",
    "- consumo (km/l)\n",
    "- capacidade_tanque(l)\n",
    "- conteúdo_tanque(l)\n",
    "- km_inicial\n",
    "\n",
    "--> andar\n",
    "\n",
    "--> abastecer\n",
    "\n",
    "--> odômetero parcial\n",
    "\n",
    "--> odômetro total\n",
    "\n",
    "--> autonomia\n"
   ]
  },
  {
   "cell_type": "code",
   "execution_count": 78,
   "metadata": {
    "collapsed": false
   },
   "outputs": [],
   "source": [
    "class Automovel:\n",
    "    def __init__(self, nome, consumo=10,capacidade=20,conteudo_tanque=20,km_inicial=0):\n",
    "        self.consumo=consumo\n",
    "        self.capacidade=capacidade\n",
    "        self.conteudo_tanque=conteudo_tanque\n",
    "        self.km_inicial=km_inicial\n",
    "        self.nome=nome\n",
    "    def andar(self,distancia,terreno=\"rodovia\"):\n",
    "        if distancia>self.conteudo_tanque*self.capacidade:\n",
    "            print(\"Não é possível andar essa distância. Por favor abasteça \",(distancia*self.capacidade)-(self.conteudo_tanque*self.capacidade), \"litros\")\n",
    "        else:\n",
    "            self.conteudo_tanque=self.conteudo_tanque-(distancia/self.consumo)\n",
    "            print (\"Andamos \", distancia, \" kilômetros.\")\n",
    "    def abastecer(self, litros):\n",
    "        if self.conteudo_tanque==20:\n",
    "            print (\"Não é preciso abastecer. Tanque cheio. \")\n",
    "        if self.conteudo_tanque+litros>20:\n",
    "            print (\"Abasteci \", 20 -self.conteudo_tanque, \"litros\")\n",
    "            self.conteudo_tanque += 20-self.conteudo_tanque\n",
    "        else:\n",
    "            self.conteudo_tanque+=litros\n",
    "            print(self.conteudo_tanque)\n",
    "    def mostra_odometro_parcial(self):\n",
    "        odometro_parcial==distancia\n",
    "        \n",
    "    def mostra_odometro_total(self):\n",
    "        odometro_total=self.km_inicial+odometro_parcial\n",
    "        \n",
    "            \n",
    "            \n",
    "        "
   ]
  },
  {
   "cell_type": "code",
   "execution_count": 79,
   "metadata": {
    "collapsed": false
   },
   "outputs": [],
   "source": [
    "Nissan=Automovel(\"Sentra\")"
   ]
  },
  {
   "cell_type": "code",
   "execution_count": 80,
   "metadata": {
    "collapsed": false
   },
   "outputs": [
    {
     "name": "stdout",
     "output_type": "stream",
     "text": [
      "Andamos  40  kilômetros.\n"
     ]
    }
   ],
   "source": [
    "Nissan.andar(40)\n",
    "\n"
   ]
  },
  {
   "cell_type": "code",
   "execution_count": 81,
   "metadata": {
    "collapsed": false
   },
   "outputs": [
    {
     "name": "stdout",
     "output_type": "stream",
     "text": [
      "Abasteci  4.0 litros\n"
     ]
    }
   ],
   "source": [
    "Nissan.abastecer(5)"
   ]
  },
  {
   "cell_type": "code",
   "execution_count": 83,
   "metadata": {
    "collapsed": false
   },
   "outputs": [
    {
     "ename": "NameError",
     "evalue": "name 'odometro_parcial' is not defined",
     "output_type": "error",
     "traceback": [
      "\u001b[1;31m---------------------------------------------------------------------------\u001b[0m",
      "\u001b[1;31mNameError\u001b[0m                                 Traceback (most recent call last)",
      "\u001b[1;32m<ipython-input-83-d0dc6265d18f>\u001b[0m in \u001b[0;36m<module>\u001b[1;34m()\u001b[0m\n\u001b[1;32m----> 1\u001b[1;33m \u001b[0mNissan\u001b[0m\u001b[1;33m.\u001b[0m\u001b[0mmostra_odometro_parcial\u001b[0m\u001b[1;33m(\u001b[0m\u001b[1;33m)\u001b[0m\u001b[1;33m\u001b[0m\u001b[0m\n\u001b[0m",
      "\u001b[1;32m<ipython-input-78-0576c692bf0c>\u001b[0m in \u001b[0;36mmostra_odometro_parcial\u001b[1;34m(self)\u001b[0m\n\u001b[0;32m     22\u001b[0m             \u001b[0mprint\u001b[0m\u001b[1;33m(\u001b[0m\u001b[0mself\u001b[0m\u001b[1;33m.\u001b[0m\u001b[0mconteudo_tanque\u001b[0m\u001b[1;33m)\u001b[0m\u001b[1;33m\u001b[0m\u001b[0m\n\u001b[0;32m     23\u001b[0m     \u001b[1;32mdef\u001b[0m \u001b[0mmostra_odometro_parcial\u001b[0m\u001b[1;33m(\u001b[0m\u001b[0mself\u001b[0m\u001b[1;33m)\u001b[0m\u001b[1;33m:\u001b[0m\u001b[1;33m\u001b[0m\u001b[0m\n\u001b[1;32m---> 24\u001b[1;33m         \u001b[0modometro_parcial\u001b[0m\u001b[1;33m==\u001b[0m\u001b[0mdistancia\u001b[0m\u001b[1;33m\u001b[0m\u001b[0m\n\u001b[0m\u001b[0;32m     25\u001b[0m \u001b[1;33m\u001b[0m\u001b[0m\n\u001b[0;32m     26\u001b[0m     \u001b[1;32mdef\u001b[0m \u001b[0mmostra_odometro_total\u001b[0m\u001b[1;33m(\u001b[0m\u001b[0mself\u001b[0m\u001b[1;33m)\u001b[0m\u001b[1;33m:\u001b[0m\u001b[1;33m\u001b[0m\u001b[0m\n",
      "\u001b[1;31mNameError\u001b[0m: name 'odometro_parcial' is not defined"
     ]
    }
   ],
   "source": [
    "Nissan.mostra_odometro_parcial()"
   ]
  },
  {
   "cell_type": "code",
   "execution_count": null,
   "metadata": {
    "collapsed": true
   },
   "outputs": [],
   "source": []
  }
 ],
 "metadata": {
  "kernelspec": {
   "display_name": "Python 3",
   "language": "python",
   "name": "python3"
  },
  "language_info": {
   "codemirror_mode": {
    "name": "ipython",
    "version": 3
   },
   "file_extension": ".py",
   "mimetype": "text/x-python",
   "name": "python",
   "nbconvert_exporter": "python",
   "pygments_lexer": "ipython3",
   "version": "3.5.1"
  }
 },
 "nbformat": 4,
 "nbformat_minor": 0
}
