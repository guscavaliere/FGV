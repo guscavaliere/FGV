{
 "cells": [
  {
   "cell_type": "markdown",
   "metadata": {},
   "source": [
    "                                      Continuação de classes"
   ]
  },
  
  {
   "cell_type": "markdown",
   "metadata": {},
   "source": [
    "<h4>Criar uma classe automóvel, com as características:</h4>\n",
    "\n",
    "- consumo (km/l)\n",
    "- capacidade_tanque(l)\n",
    "- conteúdo_tanque(l)\n",
    "- km_inicial\n",
    "\n",
    "--> andar\n",
    "\n",
    "--> abastecer\n",
    "\n",
    "--> odômetro parcial\n",
    "\n",
    "--> odômetro total\n",
    "\n",
    "--> autonomia\n"
   ]
  },
  {
   "cell_type": "code",
   "execution_count": 53,
   "metadata": {
    "collapsed": false
   },
   "outputs": [],
   "source": [
    "class Automovel:\n",
    "    odometro_parcial=0\n",
    "    odometro_total=0\n",
    "    import time\n",
    "    def __init__(self, nome, consumo=10,capacidade=20,conteudo_tanque=20,km_inicial=0,idade=0):\n",
    "        self.consumo=consumo\n",
    "        self.capacidade=capacidade\n",
    "        self.conteudo_tanque=conteudo_tanque\n",
    "        self.km_inicial=km_inicial\n",
    "        self.nome=nome\n",
    "        self.idade=idade\n",
    "       \n",
    "    def andar(self,distancia,terreno=\"rodovia\"):\n",
    "        if distancia>self.conteudo_tanque*self.capacidade:\n",
    "            print(\"Não é possível andar essa distância. Por favor abasteça \",(distancia*self.capacidade)-(self.conteudo_tanque*self.capacidade), \"litros\")\n",
    "        else:\n",
    "            self.conteudo_tanque=self.conteudo_tanque-(distancia/self.consumo)\n",
    "            print (\"Andamos \", distancia, \" kilômetros.\")\n",
    "            self.odometro_parcial +=distancia\n",
    "            self.odometro_total+=distancia\n",
    "    def abastecer(self, litros):\n",
    "        if self.conteudo_tanque==20:\n",
    "            print (\"Não é preciso abastecer. Tanque cheio. \")\n",
    "        if self.conteudo_tanque+litros>20:\n",
    "            print (\"Abasteci \", 20 -self.conteudo_tanque, \"litros\")\n",
    "            self.conteudo_tanque += 20-self.conteudo_tanque\n",
    "            self.odometro_parcial=0\n",
    "        else:\n",
    "            self.conteudo_tanque+=litros\n",
    "            print(self.conteudo_tanque)\n",
    "            self.odometro_parcial=0\n",
    "    def mostra_status(self):\n",
    "            import time\n",
    "            time2 =time.time()\n",
    "            print (\"Status atual do carro:\\n\")\n",
    "            print (\"Conteúdo do tanque: {} litros\".format(self.conteudo_tanque))\n",
    "            print (\"Odômetro total: {}\".format(self.odometro_total))\n",
    "            print(\"Odômetro parcial: {}\".format(self.odometro_parcial))\n",
    "            print(\"Tempo desde a compra: {}\".format(time2))\n",
    "         \n",
    "   \n",
    "            \n",
    "            \n",
    "        "
   ]
  },
  {
   "cell_type": "code",
   "execution_count": 54,
   "metadata": {
    "collapsed": false
   },
   "outputs": [],
   "source": [
    "Nissan=Automovel(\"Sentra\")"
   ]
  },
  {
   "cell_type": "code",
   "execution_count": 55,
   "metadata": {
    "collapsed": false
   },
   "outputs": [
    {
     "name": "stdout",
     "output_type": "stream",
     "text": [
      "Andamos  40  kilômetros.\n"
     ]
    }
   ],
   "source": [
    "Nissan.andar(40)\n",
    "\n"
   ]
  },
  {
   "cell_type": "code",
   "execution_count": 56,
   "metadata": {
    "collapsed": false
   },
   "outputs": [
    {
     "name": "stdout",
     "output_type": "stream",
     "text": [
      "Abasteci  4.0 litros\n"
     ]
    }
   ],
   "source": [
    "Nissan.abastecer(5)"
   ]
  },
  {
   "cell_type": "code",
   "execution_count": 57,
   "metadata": {
    "collapsed": false
   },
   "outputs": [
    {
     "data": {
      "text/plain": [
       "0"
      ]
     },
     "execution_count": 57,
     "metadata": {},
     "output_type": "execute_result"
    }
   ],
   "source": [
    "Nissan.odometro_parcial"
   ]
  },
  {
   "cell_type": "code",
   "execution_count": 58,
   "metadata": {
    "collapsed": false
   },
   "outputs": [
    {
     "data": {
      "text/plain": [
       "40"
      ]
     },
     "execution_count": 58,
     "metadata": {},
     "output_type": "execute_result"
    }
   ],
   "source": [
    "Nissan.odometro_total"
   ]
  },
  {
   "cell_type": "code",
   "execution_count": 59,
   "metadata": {
    "collapsed": false
   },
   "outputs": [],
   "source": [
    "Mitsubishi=Automovel(\"Pajero\",7,50,50,0)"
   ]
  },
  {
   "cell_type": "code",
   "execution_count": 60,
   "metadata": {
    "collapsed": false
   },
   "outputs": [
    {
     "name": "stdout",
     "output_type": "stream",
     "text": [
      "Andamos  25  kilômetros.\n"
     ]
    }
   ],
   "source": [
    "Mitsubishi.andar(25)"
   ]
  },
  {
   "cell_type": "code",
   "execution_count": 61,
   "metadata": {
    "collapsed": false
   },
   "outputs": [
    {
     "name": "stdout",
     "output_type": "stream",
     "text": [
      "Status atual do carro:\n",
      "\n",
      "Conteúdo do tanque: 46.42857142857143 litros\n",
      "Odômetro total: 25\n",
      "Odômetro parcial: 25\n",
      "Tempo desde a compra: 1464087002.4133818\n"
     ]
    }
   ],
   "source": [
    "Mitsubishi.mostra_status()"
   ]
  },
  {
   "cell_type": "code",
   "execution_count": null,
   "metadata": {
    "collapsed": true
   },
   "outputs": [],
   "source": []
  }
 ],
 "metadata": {
  "kernelspec": {
   "display_name": "Python 3",
   "language": "python",
   "name": "python3"
  },
  "language_info": {
   "codemirror_mode": {
    "name": "ipython",
    "version": 3
   },
   "file_extension": ".py",
   "mimetype": "text/x-python",
   "name": "python",
   "nbconvert_exporter": "python",
   "pygments_lexer": "ipython3",
   "version": "3.5.1"
  }
 },
 "nbformat": 4,
 "nbformat_minor": 0
}
