{
 "cells": [
  {
   "cell_type": "markdown",
   "metadata": {},
   "source": [
    "                                      Continuação de classes"
   ]
  },
  {
   "cell_type": "code",
   "execution_count": 2,
   "metadata": {
    "collapsed": true
   },
   "outputs": [],
   "source": [
    "class Minha_classe:\n",
    "    propriedade=\"Azul\"\n",
    "    outra_propriedade=\"Verde\"\n",
    "    \n",
    "    def um_metodo():\n",
    "        pass"
   ]
  },
  {
   "cell_type": "code",
   "execution_count": 3,
   "metadata": {
    "collapsed": false
   },
   "outputs": [],
   "source": [
    "class Minha_classe_bombada(Minha_classe):\n",
    "    def __init__(self):\n",
    "        print('Você criou uma classe')"
   ]
  },
  {
   "cell_type": "code",
   "execution_count": 4,
   "metadata": {
    "collapsed": false
   },
   "outputs": [
    {
     "name": "stdout",
     "output_type": "stream",
     "text": [
      "Você criou uma classe\n"
     ]
    }
   ],
   "source": [
    "jiu_jitsu=Minha_classe_bombada()"
   ]
  },
  {
   "cell_type": "code",
   "execution_count": 7,
   "metadata": {
    "collapsed": false
   },
   "outputs": [],
   "source": [
    "class Humano:\n",
    "    def __init__(self,data_nascimento,tipo_sanguineo):\n",
    "        self.data_nascimento=data_nascimento\n",
    "        self.tipo_sanguineo=tipo_sanguineo\n",
    "    def mostra_tipo(self):\n",
    "        print (self.tipo_sanguineo)\n",
    "    def mostra_idade(self):\n",
    "        print(self.data_nascimento)\n",
    "        \n",
    "        "
   ]
  },
  {
   "cell_type": "code",
   "execution_count": 9,
   "metadata": {
    "collapsed": false
   },
   "outputs": [],
   "source": [
    "class Aluno(Humano):\n",
    "    def __init__(self,data_nascimento,tipo_sanguineo,nome):\n",
    "        Humano.__init__(self,data_nascimento,tipo_sanguineo)\n",
    "        self.nome=nome\n",
    "        "
   ]
  },
  {
   "cell_type": "code",
   "execution_count": 10,
   "metadata": {
    "collapsed": true
   },
   "outputs": [],
   "source": [
    "Bia=Aluno(\"18-04-1998\",'O+',\"Beatriz Coimbra\")"
   ]
  },
  {
   "cell_type": "code",
   "execution_count": 12,
   "metadata": {
    "collapsed": false
   },
   "outputs": [
    {
     "data": {
      "text/plain": [
       "'18-04-1998'"
      ]
     },
     "execution_count": 12,
     "metadata": {},
     "output_type": "execute_result"
    }
   ],
   "source": [
    "Bia.data_nascimento"
   ]
  },
  {
   "cell_type": "code",
   "execution_count": 13,
   "metadata": {
    "collapsed": true
   },
   "outputs": [],
   "source": [
    "class Mulher:\n",
    "    def __init__(self,e_mae):\n",
    "        self.e_mae =e_mae"
   ]
  },
  {
   "cell_type": "code",
   "execution_count": 14,
   "metadata": {
    "collapsed": true
   },
   "outputs": [],
   "source": [
    "class Aluno_mulher(Aluno,Mulher):\n",
    "    def __init__(self,data_nascimento,tipo_sanguineo,nome,e_mae):\n",
    "        Aluno.__init__(self,data_nascimento,tipo_sanguineo,nome)\n",
    "        Mulher.__init__(self,e_mae)"
   ]
  },
  {
   "cell_type": "code",
   "execution_count": 15,
   "metadata": {
    "collapsed": true
   },
   "outputs": [],
   "source": [
    "Bia=Aluno_mulher(\"18-04-1998\",'O+',\"Beatriz Coimbra\",False)"
   ]
  },
  {
   "cell_type": "code",
   "execution_count": 16,
   "metadata": {
    "collapsed": false
   },
   "outputs": [
    {
     "data": {
      "text/plain": [
       "False"
      ]
     },
     "execution_count": 16,
     "metadata": {},
     "output_type": "execute_result"
    }
   ],
   "source": [
    "Bia.e_mae"
   ]
  },
  {
   "cell_type": "code",
   "execution_count": 18,
   "metadata": {
    "collapsed": false
   },
   "outputs": [
    {
     "name": "stdout",
     "output_type": "stream",
     "text": [
      "O+\n"
     ]
    }
   ],
   "source": [
    "Bia.mostra_tipo()\n"
   ]
  },
  {
   "cell_type": "markdown",
   "metadata": {},
   "source": [
    "<h4>Criar uma classe automóvel, com as características:</h4>\n",
    "\n",
    "- consumo (km/l)\n",
    "- capacidade_tanque(l)\n",
    "- conteúdo_tanque(l)\n",
    "- km_inicial\n",
    "\n",
    "--> andar\n",
    "\n",
    "--> abastecer\n",
    "\n",
    "--> odômetro parcial\n",
    "\n",
    "--> odômetro total\n",
    "\n",
    "--> autonomia\n"
   ]
  },
  {
   "cell_type": "code",
   "execution_count": 53,
   "metadata": {
    "collapsed": false
   },
   "outputs": [],
   "source": [
    "class Automovel:\n",
    "    odometro_parcial=0\n",
    "    odometro_total=0\n",
    "    import time\n",
    "    def __init__(self, nome, consumo=10,capacidade=20,conteudo_tanque=20,km_inicial=0,idade=0):\n",
    "        self.consumo=consumo\n",
    "        self.capacidade=capacidade\n",
    "        self.conteudo_tanque=conteudo_tanque\n",
    "        self.km_inicial=km_inicial\n",
    "        self.nome=nome\n",
    "        self.idade=idade\n",
    "       \n",
    "    def andar(self,distancia,terreno=\"rodovia\"):\n",
    "        if distancia>self.conteudo_tanque*self.capacidade:\n",
    "            print(\"Não é possível andar essa distância. Por favor abasteça \",(distancia*self.capacidade)-(self.conteudo_tanque*self.capacidade), \"litros\")\n",
    "        else:\n",
    "            self.conteudo_tanque=self.conteudo_tanque-(distancia/self.consumo)\n",
    "            print (\"Andamos \", distancia, \" kilômetros.\")\n",
    "            self.odometro_parcial +=distancia\n",
    "            self.odometro_total+=distancia\n",
    "    def abastecer(self, litros):\n",
    "        if self.conteudo_tanque==20:\n",
    "            print (\"Não é preciso abastecer. Tanque cheio. \")\n",
    "        if self.conteudo_tanque+litros>20:\n",
    "            print (\"Abasteci \", 20 -self.conteudo_tanque, \"litros\")\n",
    "            self.conteudo_tanque += 20-self.conteudo_tanque\n",
    "            self.odometro_parcial=0\n",
    "        else:\n",
    "            self.conteudo_tanque+=litros\n",
    "            print(self.conteudo_tanque)\n",
    "            self.odometro_parcial=0\n",
    "    def mostra_status(self):\n",
    "            import time\n",
    "            time2 =time.time()\n",
    "            print (\"Status atual do carro:\\n\")\n",
    "            print (\"Conteúdo do tanque: {} litros\".format(self.conteudo_tanque))\n",
    "            print (\"Odômetro total: {}\".format(self.odometro_total))\n",
    "            print(\"Odômetro parcial: {}\".format(self.odometro_parcial))\n",
    "            print(\"Tempo desde a compra: {}\".format(time2))\n",
    "         \n",
    "   \n",
    "            \n",
    "            \n",
    "        "
   ]
  },
  {
   "cell_type": "code",
   "execution_count": 54,
   "metadata": {
    "collapsed": false
   },
   "outputs": [],
   "source": [
    "Nissan=Automovel(\"Sentra\")"
   ]
  },
  {
   "cell_type": "code",
   "execution_count": 55,
   "metadata": {
    "collapsed": false
   },
   "outputs": [
    {
     "name": "stdout",
     "output_type": "stream",
     "text": [
      "Andamos  40  kilômetros.\n"
     ]
    }
   ],
   "source": [
    "Nissan.andar(40)\n",
    "\n"
   ]
  },
  {
   "cell_type": "code",
   "execution_count": 56,
   "metadata": {
    "collapsed": false
   },
   "outputs": [
    {
     "name": "stdout",
     "output_type": "stream",
     "text": [
      "Abasteci  4.0 litros\n"
     ]
    }
   ],
   "source": [
    "Nissan.abastecer(5)"
   ]
  },
  {
   "cell_type": "code",
   "execution_count": 57,
   "metadata": {
    "collapsed": false
   },
   "outputs": [
    {
     "data": {
      "text/plain": [
       "0"
      ]
     },
     "execution_count": 57,
     "metadata": {},
     "output_type": "execute_result"
    }
   ],
   "source": [
    "Nissan.odometro_parcial"
   ]
  },
  {
   "cell_type": "code",
   "execution_count": 58,
   "metadata": {
    "collapsed": false
   },
   "outputs": [
    {
     "data": {
      "text/plain": [
       "40"
      ]
     },
     "execution_count": 58,
     "metadata": {},
     "output_type": "execute_result"
    }
   ],
   "source": [
    "Nissan.odometro_total"
   ]
  },
  {
   "cell_type": "code",
   "execution_count": 59,
   "metadata": {
    "collapsed": false
   },
   "outputs": [],
   "source": [
    "Mitsubishi=Automovel(\"Pajero\",7,50,50,0)"
   ]
  },
  {
   "cell_type": "code",
   "execution_count": 60,
   "metadata": {
    "collapsed": false
   },
   "outputs": [
    {
     "name": "stdout",
     "output_type": "stream",
     "text": [
      "Andamos  25  kilômetros.\n"
     ]
    }
   ],
   "source": [
    "Mitsubishi.andar(25)"
   ]
  },
  {
   "cell_type": "code",
   "execution_count": 61,
   "metadata": {
    "collapsed": false
   },
   "outputs": [
    {
     "name": "stdout",
     "output_type": "stream",
     "text": [
      "Status atual do carro:\n",
      "\n",
      "Conteúdo do tanque: 46.42857142857143 litros\n",
      "Odômetro total: 25\n",
      "Odômetro parcial: 25\n",
      "Tempo desde a compra: 1464087002.4133818\n"
     ]
    }
   ],
   "source": [
    "Mitsubishi.mostra_status()"
   ]
  },
  {
   "cell_type": "code",
   "execution_count": null,
   "metadata": {
    "collapsed": true
   },
   "outputs": [],
   "source": []
  }
 ],
 "metadata": {
  "kernelspec": {
   "display_name": "Python 3",
   "language": "python",
   "name": "python3"
  },
  "language_info": {
   "codemirror_mode": {
    "name": "ipython",
    "version": 3
   },
   "file_extension": ".py",
   "mimetype": "text/x-python",
   "name": "python",
   "nbconvert_exporter": "python",
   "pygments_lexer": "ipython3",
   "version": "3.5.1"
  }
 },
 "nbformat": 4,
 "nbformat_minor": 0
}
