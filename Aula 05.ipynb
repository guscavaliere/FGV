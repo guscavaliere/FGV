{
 "cells": [
  {
   "cell_type": "code",
   "execution_count": 4,
   "metadata": {
    "collapsed": true
   },
   "outputs": [],
   "source": [
    "import random"
   ]
  },
  {
   "cell_type": "code",
   "execution_count": 6,
   "metadata": {
    "collapsed": false
   },
   "outputs": [
    {
     "data": {
      "text/plain": [
       "0.4628841598964124"
      ]
     },
     "execution_count": 6,
     "metadata": {},
     "output_type": "execute_result"
    }
   ],
   "source": [
    "random.random()"
   ]
  },
  {
   "cell_type": "code",
   "execution_count": 7,
   "metadata": {
    "collapsed": false
   },
   "outputs": [
    {
     "data": {
      "text/plain": [
       "9"
      ]
     },
     "execution_count": 7,
     "metadata": {},
     "output_type": "execute_result"
    }
   ],
   "source": [
    "random.randrange(50)"
   ]
  },
  {
   "cell_type": "code",
   "execution_count": 9,
   "metadata": {
    "collapsed": false
   },
   "outputs": [
    {
     "data": {
      "text/plain": [
       "2"
      ]
     },
     "execution_count": 9,
     "metadata": {},
     "output_type": "execute_result"
    }
   ],
   "source": [
    "random.randint(1,20)"
   ]
  },
  {
   "cell_type": "code",
   "execution_count": 10,
   "metadata": {
    "collapsed": false
   },
   "outputs": [
    {
     "data": {
      "text/plain": [
       "'jiu'"
      ]
     },
     "execution_count": 10,
     "metadata": {},
     "output_type": "execute_result"
    }
   ],
   "source": [
    "random.choice(['jiu','jitsu','muay','thai'])"
   ]
  },
  {
   "cell_type": "code",
   "execution_count": 18,
   "metadata": {
    "collapsed": false
   },
   "outputs": [
    {
     "name": "stdout",
     "output_type": "stream",
     "text": [
      "7\n",
      "Seus números são: {33, 3, 41, 48, 51, 52, 24} . \n",
      " O valor é R$ 24.5\n",
      "Obrigado por jogar. Boa sorte!\n",
      "Tempo total:  2.813182830810547 segundos.\n"
     ]
    }
   ],
   "source": [
    "# Mega Sena\n",
    "import random\n",
    "import time\n",
    "def mega_sena():\n",
    "    t1=time.time()\n",
    "    d={6:3.50,7:24.50, 8:98.00, 9:294.00, 10:735.00, 11:1617.00, 12:3234.00, 13:6006.00, 14:10510.50, 15:17517.50}\n",
    "    valor = input()\n",
    "    valor=int(valor)\n",
    "    aposta =set([])\n",
    "    while len(aposta)<valor:\n",
    "        if int(valor)>15:\n",
    "            print('Aposta Inválida. Escolha menos números')\n",
    "            break\n",
    "        else:\n",
    "            aposta.add(random.randrange(1,61))\n",
    "    t2=time.time()\n",
    "    print ('Seus números são:', aposta , '. \\n O valor é R$',d[int(valor)])\n",
    "    print ('Obrigado por jogar. Boa sorte!')\n",
    "    print ('Tempo total: ', t2-t1, 'segundos.')\n",
    "    \n",
    "mega_sena()"
   ]
  },
  {
   "cell_type": "code",
   "execution_count": 27,
   "metadata": {
    "collapsed": true
   },
   "outputs": [],
   "source": [
    "# Sequência Fibonacci\n",
    "def fibo(n):\n",
    "    if n==1:\n",
    "        return 1\n",
    "    elif n==2:\n",
    "        return 2\n",
    "    else:\n",
    "        return (fibo(n-1)+(fibo(n-2)))\n",
    "\n",
    "# programa não otimizado"
   ]
  },
  {
   "cell_type": "code",
   "execution_count": 28,
   "metadata": {
    "collapsed": false
   },
   "outputs": [
    {
     "data": {
      "text/plain": [
       "8"
      ]
     },
     "execution_count": 28,
     "metadata": {},
     "output_type": "execute_result"
    }
   ],
   "source": [
    "fibo(5)"
   ]
  },
  {
   "cell_type": "code",
   "execution_count": 40,
   "metadata": {
    "collapsed": true
   },
   "outputs": [],
   "source": [
    "def acha_posições(texto, letra):\n",
    "    posições=[]\n",
    "    atual=0\n",
    "    while not texto.find(letra)== -1:\n",
    "        posição = atual +texto.find(letra)\n",
    "        posições.append(posição)\n",
    "        atual += posição\n",
    "        texto  = texto[posição+1:]\n",
    "    print (posições)"
   ]
  },
  {
   "cell_type": "code",
   "execution_count": 41,
   "metadata": {
    "collapsed": false
   },
   "outputs": [
    {
     "name": "stdout",
     "output_type": "stream",
     "text": [
      "[2, 7]\n"
     ]
    }
   ],
   "source": [
    "texto = 'Jiu Jitsu n vezes oss'\n",
    "acha_posições(texto, 'u')"
   ]
  },
  {
   "cell_type": "code",
   "execution_count": null,
   "metadata": {
    "collapsed": true
   },
   "outputs": [],
   "source": []
  }
 ],
 "metadata": {
  "kernelspec": {
   "display_name": "Python 3",
   "language": "python",
   "name": "python3"
  },
  "language_info": {
   "codemirror_mode": {
    "name": "ipython",
    "version": 3
   },
   "file_extension": ".py",
   "mimetype": "text/x-python",
   "name": "python",
   "nbconvert_exporter": "python",
   "pygments_lexer": "ipython3",
   "version": "3.5.1"
  }
 },
 "nbformat": 4,
 "nbformat_minor": 0
}
