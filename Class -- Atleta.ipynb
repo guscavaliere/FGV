{
 "cells": [
  {
   "cell_type": "code",
   "execution_count": 44,
   "metadata": {
    "collapsed": false
   },
   "outputs": [],
   "source": [
    "class Atleta:\n",
    "    def __init__(self, nome, modalidade, faixa, títulos, stamina):\n",
    "        self.modalidade=modalidade\n",
    "        self.nome=nome\n",
    "        self.faixa=faixa\n",
    "        self.títulos=títulos\n",
    "        self.stamina=stamina\n",
    "    def compete(self, energia, título):\n",
    "        self.stamina=self.stamina-energia\n",
    "        self.títulos+=título\n",
    "    def descansa(self,energia, tempo):\n",
    "        if tempo<=2:\n",
    "            self.stamina+=int(energia*tempo)\n",
    "        else:\n",
    "            self.stamina+=energia\n",
    "            self.títulos=self.títulos-1\n",
    "    def status(self):\n",
    "        print(\"O status é:\")\n",
    "        print(\"Stamina: {}\".format(self.stamina))\n",
    "        print (\"Nome: {}\".format(self.nome))\n",
    "        print (\"Títulos:{}\".format(self.títulos))\n",
    "        if self.faixa<=1:\n",
    "            print (\"Faixa: Branca\")\n",
    "        elif self.faixa<=3:\n",
    "            print(\"Faixa: Azul\")\n",
    "        elif self.faixa<=5:\n",
    "            print (\"Faixa: Roxa\")\n",
    "        elif self.faixa<=7:\n",
    "            print ( \"Faixa : Marrom\")\n",
    "        else:\n",
    "            print (\"Faixa: Preta\")\n",
    "            print (\"Esse é brabo\")\n",
    "        \n",
    "    "
   ]
  },
  {
   "cell_type": "code",
   "execution_count": 54,
   "metadata": {
    "collapsed": true
   },
   "outputs": [],
   "source": [
    "Teste=Atleta(\"Pedro\", \"Jiu Jitsu\", 10, 9, 10)"
   ]
  },
  {
   "cell_type": "code",
   "execution_count": 46,
   "metadata": {
    "collapsed": false
   },
   "outputs": [
    {
     "data": {
      "text/plain": [
       "'Pedro'"
      ]
     },
     "execution_count": 46,
     "metadata": {},
     "output_type": "execute_result"
    }
   ],
   "source": [
    "Teste.nome"
   ]
  },
  {
   "cell_type": "code",
   "execution_count": 47,
   "metadata": {
    "collapsed": false
   },
   "outputs": [
    {
     "data": {
      "text/plain": [
       "'Jiu Jitsu'"
      ]
     },
     "execution_count": 47,
     "metadata": {},
     "output_type": "execute_result"
    }
   ],
   "source": [
    "Teste.modalidade"
   ]
  },
  {
   "cell_type": "code",
   "execution_count": 48,
   "metadata": {
    "collapsed": false
   },
   "outputs": [],
   "source": [
    "Teste.compete(2,1)"
   ]
  },
  {
   "cell_type": "code",
   "execution_count": 49,
   "metadata": {
    "collapsed": false
   },
   "outputs": [
    {
     "data": {
      "text/plain": [
       "10"
      ]
     },
     "execution_count": 49,
     "metadata": {},
     "output_type": "execute_result"
    }
   ],
   "source": [
    "Teste.títulos\t"
   ]
  },
  {
   "cell_type": "code",
   "execution_count": 50,
   "metadata": {
    "collapsed": false
   },
   "outputs": [
    {
     "data": {
      "text/plain": [
       "8"
      ]
     },
     "execution_count": 50,
     "metadata": {},
     "output_type": "execute_result"
    }
   ],
   "source": [
    "Teste.stamina"
   ]
  },
  {
   "cell_type": "code",
   "execution_count": 51,
   "metadata": {
    "collapsed": false
   },
   "outputs": [],
   "source": [
    "Teste.descansa(2,2)"
   ]
  },
  {
   "cell_type": "code",
   "execution_count": 52,
   "metadata": {
    "collapsed": false
   },
   "outputs": [
    {
     "data": {
      "text/plain": [
       "12"
      ]
     },
     "execution_count": 52,
     "metadata": {},
     "output_type": "execute_result"
    }
   ],
   "source": [
    "Teste.stamina"
   ]
  },
  {
   "cell_type": "code",
   "execution_count": 55,
   "metadata": {
    "collapsed": false
   },
   "outputs": [
    {
     "name": "stdout",
     "output_type": "stream",
     "text": [
      "O status é:\n",
      "Stamina: 10\n",
      "Nome: Pedro\n",
      "Títulos:9\n",
      "Faixa: Preta\n",
      "Esse é brabo\n"
     ]
    }
   ],
   "source": [
    "Teste.status()"
   ]
  },
  {
   "cell_type": "code",
   "execution_count": null,
   "metadata": {
    "collapsed": true
   },
   "outputs": [],
   "source": []
  }
 ],
 "metadata": {
  "kernelspec": {
   "display_name": "Python 3",
   "language": "python",
   "name": "python3"
  },
  "language_info": {
   "codemirror_mode": {
    "name": "ipython",
    "version": 3
   },
   "file_extension": ".py",
   "mimetype": "text/x-python",
   "name": "python",
   "nbconvert_exporter": "python",
   "pygments_lexer": "ipython3",
   "version": "3.5.1"
  }
 },
 "nbformat": 4,
 "nbformat_minor": 0
}
