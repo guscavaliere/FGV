{
 "cells": [
  {
   "cell_type": "code",
   "execution_count": null,
   "metadata": {
    "collapsed": true
   },
   "outputs": [],
   "source": [
    "def get_cardinal_name(num):\n",
    "    \"\"\"Get cardinal name for number (0 to 1 million)\"\"\"\n",
    "    numbers = {\n",
    "        0: \"zero\", 1: \"um\", 2: \"dois\", 3: \"três\", 4: \"quatro\", 5: \"cinco\",\n",
    "        6: \"seis\", 7: \"sete\", 8: \"oito\", 9: \"nove\", 10: \"dez\",\n",
    "        11: \"onze\", 12: \"doze\", 13: \"treze\", 14: \"quatorze\",\n",
    "        15: \"quinze\", 16: \"sixteen\", 17: \"seventeen\", 18: \"eighteen\",\n",
    "        19: \"nineteen\", 20: \"twenty\", 30: \"thirty\", 40: \"forty\",\n",
    "        50: \"fifty\", 60: \"sixty\", 70: \"seventy\", 80: \"eighty\", 90: \"ninety\",\n",
    "      }\n",
    "    def _get_tens(n):\n",
    "      a, b = divmod(n, 10)\n",
    "      return (numbers[n] if (n in numbers) else \"%s-%s\" % (numbers[10*a], numbers[b]))    \n",
    "    def _get_hundreds(n):\n",
    "      tens = n % 100\n",
    "      hundreds = (n / 100) % 10\n",
    "      return list(compact([\n",
    "        hundreds > 0 and numbers[hundreds], \n",
    "        hundreds > 0 and \"hundred\", \n",
    "        hundreds > 0 and tens and \"and\", \n",
    "        (not hundreds or tens > 0) and _get_tens(tens),\n",
    "      ]))\n",
    "\n",
    "    # This needs some refactoring\n",
    "    if not (0 <= num < 1e6):\n",
    "      raise ValueError, \"value not supported: %s\" % num      \n",
    "    thousands = (num / 1000) % 1000\n",
    "    strings = compact([\n",
    "      thousands and (_get_hundreds(thousands) + [\"thousand\"]),\n",
    "      (num % 1000 or not thousands) and _get_hundreds(num % 1000),\n",
    "    ])\n",
    "    return \" \".join(flatten(strings))\n",
    "\n",
    "\n",
    "def problem17():\n",
    "    \"\"\"If all the numbers from 1 to 1000 (one thousand) inclusive were written \n",
    "    out in words, how many letters would be used?\"\"\"\n",
    "    strings = (get_cardinal_name(n) for n in xrange(1, 1000+1))\n",
    "    return ilen(c for c in flatten(strings) if c.isalpha())"
   ]
  }
 ],
 "metadata": {
  "kernelspec": {
   "display_name": "Python 3",
   "language": "python",
   "name": "python3"
  },
  "language_info": {
   "codemirror_mode": {
    "name": "ipython",
    "version": 3
   },
   "file_extension": ".py",
   "mimetype": "text/x-python",
   "name": "python",
   "nbconvert_exporter": "python",
   "pygments_lexer": "ipython3",
   "version": "3.5.1"
  }
 },
 "nbformat": 4,
 "nbformat_minor": 0
}
